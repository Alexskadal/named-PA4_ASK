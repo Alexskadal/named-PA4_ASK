{
 "cells": [
  {
   "cell_type": "markdown",
   "id": "c769323d",
   "metadata": {},
   "source": [
    "# Programming Assignment 5, Alexander Skadal Kyrkjeeide, Version 1, Spring 2023"
   ]
  },
  {
   "cell_type": "markdown",
   "id": "e07393ed",
   "metadata": {},
   "source": [
    "## A)"
   ]
  },
  {
   "cell_type": "code",
   "execution_count": 1,
   "id": "2439a051",
   "metadata": {},
   "outputs": [
    {
     "name": "stdout",
     "output_type": "stream",
     "text": [
      "Enter a word to translate from English to Irish (enter 0 to stop):\n",
      "couch\n",
      "The Irish word for COUCH is OUTSIDE THIS DICTIONARY.\n",
      "Enter a word to translate from English to Irish (enter 0 to stop):\n",
      "chair\n",
      "The Irish word for CHAIR is CATHAOIR.\n",
      "Enter a word to translate from English to Irish (enter 0 to stop):\n",
      "cat\n",
      "The Irish word for CAT is not in this dictionary.\n",
      "Enter a word to translate from English to Irish (enter 0 to stop):\n",
      "dog\n",
      "The Irish word for DOG is not in this dictionary.\n",
      "Enter a word to translate from English to Irish (enter 0 to stop):\n",
      "0\n"
     ]
    }
   ],
   "source": [
    "dictionary = {\n",
    "    'couch': 'outside this dictionary',\n",
    "    'chair': 'CATHAOIR',\n",
    "    'table': 'BORD',\n",
    "    'bed': 'LEABA',\n",
    "    'lamp': 'LAMPA',\n",
    "    'book': 'LEABHAR',\n",
    "    'pen': 'PIONNA',\n",
    "    'computer': 'RÍOMHAIRE',\n",
    "    'phone': 'FÓN',\n",
    "    'watch': 'FIANNA'\n",
    "}\n",
    "\n",
    "while True:\n",
    "    word = input(\"Enter a word to translate from English to Irish (enter 0 to stop):\\n\")\n",
    "    if word == '0':\n",
    "        break\n",
    "    elif word.lower() in dictionary:\n",
    "        print(f\"The Irish word for {word.upper()} is {dictionary[word.lower()].upper()}.\")\n",
    "    else:\n",
    "        print(f\"The Irish word for {word.upper()} is not in this dictionary.\")"
   ]
  },
  {
   "cell_type": "markdown",
   "id": "467f31ad",
   "metadata": {},
   "source": [
    "## B)"
   ]
  },
  {
   "cell_type": "code",
   "execution_count": 2,
   "id": "faa02044",
   "metadata": {},
   "outputs": [
    {
     "name": "stdout",
     "output_type": "stream",
     "text": [
      "{1: 13.33, 2: 7.22, 3: 20.0, 4: 0.0, 5: 5.0, 6: 10.0, 7: 3.33, 8: 12.22, 9: 16.11, 10: 8.33, 11: 15.0, 12: 6.11, 13: 10.56, 14: 6.67, 15: 2.22, 16: 9.44, 17: 11.67, 18: 13.89, 19: 1.67, 20: 8.89, 21: 3.89, 22: 5.56, 23: 12.78, 24: 16.67, 25: 7.78, 26: 4.44, 27: 15.56, 28: 14.44, 29: 2.78, 30: 11.11, 31: 10.0}\n"
     ]
    }
   ],
   "source": [
    "temp_dict = {\n",
    "    1: 56,\n",
    "    2: 45,\n",
    "    3: 68,\n",
    "    4: 32,\n",
    "    5: 41,\n",
    "    6: 50,\n",
    "    7: 38,\n",
    "    8: 54,\n",
    "    9: 61,\n",
    "    10: 47,\n",
    "    11: 59,\n",
    "    12: 43,\n",
    "    13: 51,\n",
    "    14: 44,\n",
    "    15: 36,\n",
    "    16: 49,\n",
    "    17: 53,\n",
    "    18: 57,\n",
    "    19: 35,\n",
    "    20: 48,\n",
    "    21: 39,\n",
    "    22: 42,\n",
    "    23: 55,\n",
    "    24: 62,\n",
    "    25: 46,\n",
    "    26: 40,\n",
    "    27: 60,\n",
    "    28: 58,\n",
    "    29: 37,\n",
    "    30: 52,\n",
    "    31: 50\n",
    "}\n",
    "\n",
    "for day, temp in temp_dict.items():\n",
    "    \n",
    "    celsius_temp = round((temp - 32) * 5/9, 2)\n",
    "    temp_dict[day] = celsius_temp\n",
    "\n",
    "print(temp_dict)"
   ]
  },
  {
   "cell_type": "markdown",
   "id": "7c81ae93",
   "metadata": {},
   "source": [
    "## C)"
   ]
  },
  {
   "cell_type": "code",
   "execution_count": 3,
   "id": "be4cdd31",
   "metadata": {},
   "outputs": [
    {
     "name": "stdout",
     "output_type": "stream",
     "text": [
      "{1: 1, 2: 4, 3: 9, 4: 16, 5: 25, 6: 36, 7: 49, 8: 64, 9: 81, 10: 100, 11: 121, 12: 144, 13: 169, 14: 196, 15: 225}\n"
     ]
    }
   ],
   "source": [
    "squares_dict = {}\n",
    "\n",
    "for num in range(1, 16):\n",
    "    squares_dict[num] = num**2\n",
    "\n",
    "print(squares_dict)"
   ]
  }
 ],
 "metadata": {
  "kernelspec": {
   "display_name": "Python 3",
   "language": "python",
   "name": "python3"
  },
  "language_info": {
   "codemirror_mode": {
    "name": "ipython",
    "version": 3
   },
   "file_extension": ".py",
   "mimetype": "text/x-python",
   "name": "python",
   "nbconvert_exporter": "python",
   "pygments_lexer": "ipython3",
   "version": "3.8.8"
  }
 },
 "nbformat": 4,
 "nbformat_minor": 5
}
